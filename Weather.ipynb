{
  "nbformat": 4,
  "nbformat_minor": 0,
  "metadata": {
    "colab": {
      "name": "Weather.ipynb",
      "provenance": []
    },
    "kernelspec": {
      "name": "python3",
      "display_name": "Python 3"
    },
    "language_info": {
      "name": "python"
    }
  },
  "cells": [
    {
      "cell_type": "markdown",
      "metadata": {
        "id": "_jEgJOU00L8t"
      },
      "source": [
        "Fetching weather information with a third party API using python."
      ]
    },
    {
      "cell_type": "code",
      "metadata": {
        "id": "taOMs5roz3Di"
      },
      "source": [
        "import requests\n",
        "import os\n",
        "from datetime import datetime"
      ],
      "execution_count": 1,
      "outputs": []
    },
    {
      "cell_type": "code",
      "metadata": {
        "colab": {
          "base_uri": "https://localhost:8080/"
        },
        "id": "2ujdNnIRz4n4",
        "outputId": "5c39cee6-3550-49dd-f298-85286097f21c"
      },
      "source": [
        "api_key = '87d845b0b6cf29baa1a73cc34b067a95'\n",
        "location = input(\"Enter the city name: \")\n",
        "\n",
        "complete_api_link = \"https://api.openweathermap.org/data/2.5/weather?q=\"+location+\"&appid=\"+api_key\n",
        "api_link = requests.get(complete_api_link)\n",
        "api_data = api_link.json()"
      ],
      "execution_count": 2,
      "outputs": [
        {
          "output_type": "stream",
          "text": [
            "Enter the city name: Nagpur\n"
          ],
          "name": "stdout"
        }
      ]
    },
    {
      "cell_type": "code",
      "metadata": {
        "id": "JnCS_SHyz8CG"
      },
      "source": [
        "temp_city = ((api_data['main']['temp']) - 273.15)\n",
        "weather_desc = api_data['weather'][0]['description']\n",
        "hmdt = api_data['main']['humidity']\n",
        "cld = api_data['clouds']['all']\n",
        "wind_spd = api_data['wind']['speed']\n",
        "date_time = datetime.now().strftime(\"%d %b %Y | %I:%M:%S %p\")"
      ],
      "execution_count": 3,
      "outputs": []
    },
    {
      "cell_type": "code",
      "metadata": {
        "colab": {
          "base_uri": "https://localhost:8080/"
        },
        "id": "EIdZLJbO0GXA",
        "outputId": "5242b1a3-8dd5-46a1-ca1f-99c3d90d0e74"
      },
      "source": [
        "print(\"-------------------------------------------------------------\")\n",
        "print(\"Weather Stats for - {}  || {}\".format(location.upper(), date_time))\n",
        "print(\"-------------------------------------------------------------\")\n",
        "print(\"Current temperature is: {:.2f} deg C\".format(temp_city))\n",
        "print(\"Current weather desc  :\",weather_desc)\n",
        "print(\"Current Humidity      :\",hmdt, '%')\n",
        "print(\"Current wind speed    :\",wind_spd ,'kmph')\n",
        "print(\"Current clouds        :\",cld)"
      ],
      "execution_count": 4,
      "outputs": [
        {
          "output_type": "stream",
          "text": [
            "-------------------------------------------------------------\n",
            "Weather Stats for - NAGPUR  || 23 Jun 2021 | 07:41:53 AM\n",
            "-------------------------------------------------------------\n",
            "Current temperature is: 26.01 deg C\n",
            "Current weather desc  : haze\n",
            "Current Humidity      : 83 %\n",
            "Current wind speed    : 2.57 kmph\n",
            "Current clouds        : 90\n"
          ],
          "name": "stdout"
        }
      ]
    }
  ]
}